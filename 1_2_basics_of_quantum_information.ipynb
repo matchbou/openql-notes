{
  "nbformat": 4,
  "nbformat_minor": 0,
  "metadata": {
    "colab": {
      "name": "1_basics_of_quantum_information.ipynb",
      "version": "0.3.2",
      "provenance": [],
      "include_colab_link": true
    },
    "language_info": {
      "codemirror_mode": {
        "name": "ipython",
        "version": 3
      },
      "file_extension": ".py",
      "mimetype": "text/x-python",
      "name": "python",
      "nbconvert_exporter": "python",
      "pygments_lexer": "ipython3",
      "version": "3.7.0"
    },
    "kernelspec": {
      "display_name": "Python 3",
      "language": "python",
      "name": "python3"
    }
  },
  "cells": [
    {
      "cell_type": "markdown",
      "metadata": {
        "id": "view-in-github",
        "colab_type": "text"
      },
      "source": [
        "<a href=\"https://colab.research.google.com/github/matchbou/openql-notes/blob/master/1_2_basics_of_quantum_information.ipynb\" target=\"_parent\"><img src=\"https://colab.research.google.com/assets/colab-badge.svg\" alt=\"Open In Colab\"/></a>"
      ]
    },
    {
      "cell_type": "markdown",
      "metadata": {
        "colab_type": "text",
        "id": "A46fkXZnkD6Z"
      },
      "source": [
        "## 1-2. 量子ビットに対する基本演算"
      ]
    },
    {
      "cell_type": "markdown",
      "metadata": {
        "colab_type": "text",
        "id": "-kTiAS2zjDjS"
      },
      "source": [
        "量子ビットについて理解が深まったところで、次に量子ビットに対する演算がどのように表されるかについて見ていこう。\n",
        "これには、量子力学の性質が深く関わっている。\n",
        "\n",
        "1. 線型性：   \n",
        "詳しくは第4章で学ぶのだが、量子力学では状態（量子ビット）の時間変化はつねに（状態の重ね合わせに対して）線型になっている。つまり、**量子コンピュータ上で許された操作は状態ベクトルに対する線型変換**ということになる\n",
        "。１つの量子ビットの量子状態は規格化された２次元複素ベクトルとして表現されるのだったから、\n",
        "１つの量子ビットに対する操作＝線型演算は$2 \\times 2$の**複素行列**によって表現される。\n",
        "\n",
        "2. ユニタリ性：   \n",
        "さらに、確率の合計は常に1であるという規格化条件から、量子操作に表す線形演算（量子演算）に対してさらなる制限を導くことができる。まず、各測定結果を得る確率は複素確率振幅の絶対値の2乗で与えられるので、その合計は状態ベクトルの（自分自身との）内積と一致することに注目する:\n",
        "\n",
        "$$\n",
        "|\\alpha|^2 + |\\beta|^2 =\n",
        "(\\alpha^*, \\beta^*)\n",
        "\\left(\n",
        "\\begin{array}{c}\n",
        "\\alpha \n",
        "\\\\\n",
        "\\beta \n",
        "\\end{array}\n",
        "\\right) = 1.\n",
        "$$\n",
        "\n",
        "（アスタリスク $^*$ は複素共役を表す）   \n",
        " 量子コンピュータで操作した後の状態は、量子演算に対応する線形変換(行列)を$U$とすると、\n",
        "\n",
        "$$\n",
        "U\n",
        "\\left(\n",
        "\\begin{array}{c}\n",
        "\\alpha \n",
        "\\\\\n",
        "\\beta \n",
        "\\end{array}\n",
        "\\right)\n",
        "$$\n",
        "\n",
        "と書ける。この状態についても上記の規格化条件が成り立つ必要があるので、\n",
        "\n",
        "$$\n",
        "(\\alpha^*, \\beta^*)\n",
        "U^\\dagger U\n",
        "\\left(\n",
        "\\begin{array}{c}\n",
        "\\alpha \n",
        "\\\\\n",
        "\\beta \n",
        "\\end{array}\n",
        "\\right) = 1\n",
        "$$\n",
        "\n",
        "が要請される。（ダガー $^\\dagger$ は行列の転置と複素共役を両方適用したものを表し、エルミート共役という）\n",
        "\n",
        " この関係式が任意の$\\alpha$, $\\beta$について成り立つ必要があるので、量子演算$U$は以下の条件を満たす**ユニタリー行列**に対応する:\n",
        "$$\n",
        "U^{\\dagger} U = U U^{\\dagger} = I.\n",
        "$$\n",
        "\n",
        "すなわち、**量子ビットに対する操作は、ユニタリー行列で表される**のである。"
      ]
    },
    {
      "cell_type": "markdown",
      "metadata": {
        "id": "M1zqlTD1DYal",
        "colab_type": "text"
      },
      "source": [
        "ここで、用語を整理しておく。量子力学では、状態ベクトルに対する線形変換のことを**演算子** (operator) と呼ぶ。単に演算子という場合は、ユニタリーとは限らない任意の線形変換を指す。それに対して、上記のユニタリー性を満たす線形変換のことを**量子演算** (quantum gate) と呼ぶ。量子演算は、量子状態に対する演算子のうち、（少なくとも理論的には）**物理的に実現可能なもの**と考えることができる。"
      ]
    },
    {
      "cell_type": "markdown",
      "metadata": {
        "colab_type": "text",
        "id": "BCw0oDA2jDjW"
      },
      "source": [
        "### １量子ビット演算の例：パウリ演算子\n",
        "１つの量子ビットに作用する基本的な量子演算として**パウリ演算子**を導入する。\n",
        "これは量子コンピュータを学んでいく上で最も重要な演算子であるので、定義を体に染み込ませておこう。\n",
        "\n",
        "$$\n",
        "\\begin{eqnarray}\n",
        "I&=&\n",
        "\\left(\\begin{array}{cc}\n",
        "1 & 0\n",
        "\\\\\n",
        "0 & 1\n",
        "\\end{array}\n",
        "\\right),\\;\\;\\;\n",
        "X=\n",
        "\\left(\\begin{array}{cc}\n",
        "0 & 1\n",
        "\\\\\n",
        "1 & 0\n",
        "\\end{array}\n",
        "\\right),\\;\\;\\;\n",
        "Y &=&\n",
        "\\left(\\begin{array}{cc}\n",
        "0 & -i\n",
        "\\\\\n",
        "i & 0\n",
        "\\end{array}\n",
        "\\right),\\;\\;\\;\n",
        "Z=\n",
        "\\left(\\begin{array}{cc}\n",
        "1 & 0\n",
        "\\\\\n",
        "0 & -1\n",
        "\\end{array}\n",
        "\\right).\n",
        "\\end{eqnarray}\n",
        "$$\n",
        "\n",
        "各演算子のイメージを説明する。\n",
        "\n",
        "まず、$I$は恒等演算子で、要するに「何もしない」ことを表す。\n",
        "\n",
        "$X$は古典ビットの反転（NOT）に対応し\n",
        "\n",
        "$$X|0\\rangle = |1\\rangle, \\;\\;\n",
        "X|1\\rangle = |0\\rangle\n",
        "$$\n",
        "\n",
        "のように作用する。（※ブラケット表記を用いた。下記コラムも参照。）\n",
        "\n",
        "$Z$演算子は$|0\\rangle$と$|1\\rangle$の位相を反転させる操作で、\n",
        "\n",
        "$$\n",
        "Z|0\\rangle = |0\\rangle, \\;\\;\n",
        "Z|1\\rangle = -|1\\rangle\n",
        "$$\n",
        "\n",
        "と作用する。\n",
        "これは$|0\\rangle$と$|1\\rangle$の重ね合わせの「位相」という情報を保持できる量子コンピュータ特有の演算である。\n",
        "例えば、\n",
        "\n",
        "$$\n",
        "Z \\frac{1}{\\sqrt{2}} ( |0\\rangle + |1\\rangle ) = \\frac{1}{\\sqrt{2}} ( |0\\rangle - |1\\rangle ) \n",
        "$$\n",
        "\n",
        "となる。\n",
        "\n",
        "$Y$演算子は$Y=iXZ$と書け、\n",
        "位相の反転とビットの反転を組み合わせたもの（全体にかかる複素数$i$を除いて）であると考えることができる。\n",
        "\n",
        "(詳細は Nielsen-Chuang の `1.3.1 Single qubit gates` を参照)"
      ]
    },
    {
      "cell_type": "markdown",
      "metadata": {
        "colab_type": "text",
        "id": "xDZ-Dd29jDjY"
      },
      "source": [
        "### SymPyを用いた一量子ビット演算\n",
        "SymPyではよく使う基本演算はあらかじめ定義されている。"
      ]
    },
    {
      "cell_type": "code",
      "metadata": {
        "colab_type": "code",
        "id": "U-NFd2sGjDi-",
        "colab": {}
      },
      "source": [
        "from IPython.display import Image, display_png\n",
        "from sympy import *\n",
        "from sympy.physics.quantum import *\n",
        "from sympy.physics.quantum.qubit import Qubit,QubitBra\n",
        "init_printing() # ベクトルや行列を綺麗に表示するため"
      ],
      "execution_count": 0,
      "outputs": []
    },
    {
      "cell_type": "code",
      "metadata": {
        "nbsphinx": "hidden",
        "id": "tGDQnkFFDYaw",
        "colab_type": "code",
        "colab": {}
      },
      "source": [
        "# Google Colaboratory上でのみ実行してください\n",
        "from IPython.display import HTML\n",
        "def setup_mathjax():\n",
        "    display(HTML('''\n",
        "    <script>\n",
        "        if (!window.MathJax && window.google && window.google.colab) {\n",
        "            window.MathJax = {\n",
        "                'tex2jax': {\n",
        "                    'inlineMath': [['$', '$'], ['\\\\(', '\\\\)']],\n",
        "                    'displayMath': [['$$', '$$'], ['\\\\[', '\\\\]']],\n",
        "                    'processEscapes': true,\n",
        "                    'processEnvironments': true,\n",
        "                    'skipTags': ['script', 'noscript', 'style', 'textarea', 'code'],\n",
        "                    'displayAlign': 'center',\n",
        "                },\n",
        "                'HTML-CSS': {\n",
        "                    'styles': {'.MathJax_Display': {'margin': 0}},\n",
        "                    'linebreaks': {'automatic': true},\n",
        "                    // Disable to prevent OTF font loading, which aren't part of our\n",
        "                    // distribution.\n",
        "                    'imageFont': null,\n",
        "                },\n",
        "               'messageStyle': 'none'\n",
        "            };\n",
        "            var script = document.createElement(\"script\");\n",
        "            script.src = \"https://colab.research.google.com/static/mathjax/MathJax.js?config=TeX-AMS_HTML-full,Safe\";\n",
        "            document.head.appendChild(script);\n",
        "        }\n",
        "    </script>\n",
        "    '''))\n",
        "get_ipython().events.register('pre_run_cell', setup_mathjax)"
      ],
      "execution_count": 0,
      "outputs": []
    },
    {
      "cell_type": "code",
      "metadata": {
        "colab_type": "code",
        "id": "429oA41QjDjY",
        "outputId": "6f92369e-6ce5-45e9-d708-0cdaa22036f9",
        "colab": {}
      },
      "source": [
        "from sympy.physics.quantum.gate import X,Y,Z,H,S,T,CNOT,SWAP, CPHASE"
      ],
      "execution_count": 0,
      "outputs": [
        {
          "output_type": "display_data",
          "data": {
            "text/html": [
              "\n",
              "    <script>\n",
              "        if (!window.MathJax && window.google && window.google.colab) {\n",
              "            window.MathJax = {\n",
              "                'tex2jax': {\n",
              "                    'inlineMath': [['$', '$'], ['\\(', '\\)']],\n",
              "                    'displayMath': [['$$', '$$'], ['\\[', '\\]']],\n",
              "                    'processEscapes': true,\n",
              "                    'processEnvironments': true,\n",
              "                    'skipTags': ['script', 'noscript', 'style', 'textarea', 'code'],\n",
              "                    'displayAlign': 'center',\n",
              "                },\n",
              "                'HTML-CSS': {\n",
              "                    'styles': {'.MathJax_Display': {'margin': 0}},\n",
              "                    'linebreaks': {'automatic': true},\n",
              "                    // Disable to prevent OTF font loading, which aren't part of our\n",
              "                    // distribution.\n",
              "                    'imageFont': null,\n",
              "                },\n",
              "               'messageStyle': 'none'\n",
              "            };\n",
              "            var script = document.createElement(\"script\");\n",
              "            script.src = \"https://colab.research.google.com/static/mathjax/MathJax.js?config=TeX-AMS_HTML-full,Safe\";\n",
              "            document.head.appendChild(script);\n",
              "        }\n",
              "    </script>\n",
              "    "
            ],
            "text/plain": [
              "<IPython.core.display.HTML object>"
            ]
          },
          "metadata": {
            "tags": []
          }
        }
      ]
    },
    {
      "cell_type": "markdown",
      "metadata": {
        "colab_type": "text",
        "id": "iTzqkUUHjDjb"
      },
      "source": [
        "演算子は何番目の量子ビットに作用するか、\n",
        "というのを指定して `X(0)` のように定義する。\n",
        "また、これを行列表示するときには、いくつの量子ビットの空間で表現するか \n",
        "`nqubits`というのを指定する必要がある。\n",
        "まだ、量子ビットは１つしかいないので、\n",
        "`X(0)`、`nqubits=1`としておこう。"
      ]
    },
    {
      "cell_type": "code",
      "metadata": {
        "colab_type": "code",
        "id": "Z17Vx3EZjDjc",
        "outputId": "4a0298a1-c6c0-417c-9f08-c2dc8f21da79",
        "colab": {}
      },
      "source": [
        "X(0)"
      ],
      "execution_count": 0,
      "outputs": [
        {
          "output_type": "display_data",
          "data": {
            "text/html": [
              "\n",
              "    <script>\n",
              "        if (!window.MathJax && window.google && window.google.colab) {\n",
              "            window.MathJax = {\n",
              "                'tex2jax': {\n",
              "                    'inlineMath': [['$', '$'], ['\\(', '\\)']],\n",
              "                    'displayMath': [['$$', '$$'], ['\\[', '\\]']],\n",
              "                    'processEscapes': true,\n",
              "                    'processEnvironments': true,\n",
              "                    'skipTags': ['script', 'noscript', 'style', 'textarea', 'code'],\n",
              "                    'displayAlign': 'center',\n",
              "                },\n",
              "                'HTML-CSS': {\n",
              "                    'styles': {'.MathJax_Display': {'margin': 0}},\n",
              "                    'linebreaks': {'automatic': true},\n",
              "                    // Disable to prevent OTF font loading, which aren't part of our\n",
              "                    // distribution.\n",
              "                    'imageFont': null,\n",
              "                },\n",
              "               'messageStyle': 'none'\n",
              "            };\n",
              "            var script = document.createElement(\"script\");\n",
              "            script.src = \"https://colab.research.google.com/static/mathjax/MathJax.js?config=TeX-AMS_HTML-full,Safe\";\n",
              "            document.head.appendChild(script);\n",
              "        }\n",
              "    </script>\n",
              "    "
            ],
            "text/plain": [
              "<IPython.core.display.HTML object>"
            ]
          },
          "metadata": {
            "tags": []
          }
        },
        {
          "output_type": "execute_result",
          "data": {
            "image/png": "[encoded data removed]",
            "text/latex": "$$X_{0}$$",
            "text/plain": [
              "X \n",
              " 0"
            ]
          },
          "metadata": {
            "tags": []
          },
          "execution_count": 4
        }
      ]
    },
    {
      "cell_type": "code",
      "metadata": {
        "colab_type": "code",
        "id": "M5-QaSjVjDjh",
        "outputId": "62f03195-21d1-42d6-f8e1-e0be2935736f",
        "colab": {}
      },
      "source": [
        "represent(X(0),nqubits=1)  # パウリX"
      ],
      "execution_count": 0,
      "outputs": [
        {
          "output_type": "display_data",
          "data": {
            "text/html": [
              "\n",
              "    <script>\n",
              "        if (!window.MathJax && window.google && window.google.colab) {\n",
              "            window.MathJax = {\n",
              "                'tex2jax': {\n",
              "                    'inlineMath': [['$', '$'], ['\\(', '\\)']],\n",
              "                    'displayMath': [['$$', '$$'], ['\\[', '\\]']],\n",
              "                    'processEscapes': true,\n",
              "                    'processEnvironments': true,\n",
              "                    'skipTags': ['script', 'noscript', 'style', 'textarea', 'code'],\n",
              "                    'displayAlign': 'center',\n",
              "                },\n",
              "                'HTML-CSS': {\n",
              "                    'styles': {'.MathJax_Display': {'margin': 0}},\n",
              "                    'linebreaks': {'automatic': true},\n",
              "                    // Disable to prevent OTF font loading, which aren't part of our\n",
              "                    // distribution.\n",
              "                    'imageFont': null,\n",
              "                },\n",
              "               'messageStyle': 'none'\n",
              "            };\n",
              "            var script = document.createElement(\"script\");\n",
              "            script.src = \"https://colab.research.google.com/static/mathjax/MathJax.js?config=TeX-AMS_HTML-full,Safe\";\n",
              "            document.head.appendChild(script);\n",
              "        }\n",
              "    </script>\n",
              "    "
            ],
            "text/plain": [
              "<IPython.core.display.HTML object>"
            ]
          },
          "metadata": {
            "tags": []
          }
        },
        {
          "output_type": "execute_result",
          "data": {
            "image/png": "[encoded data removed]",
            "text/latex": "$$\\left[\\begin{matrix}0 & 1\\\\1 & 0\\end{matrix}\\right]$$",
            "text/plain": [
              "⎡0  1⎤\n",
              "⎢    ⎥\n",
              "⎣1  0⎦"
            ]
          },
          "metadata": {
            "tags": []
          },
          "execution_count": 5
        }
      ]
    },
    {
      "cell_type": "markdown",
      "metadata": {
        "colab_type": "text",
        "id": "wYqb2xMTjDjl"
      },
      "source": [
        "同様に、`Y`, `Z`なども利用することができる。それに加え、アダマール演算 `H` や、位相演算 `S`、そして$\\pi/4$の位相演算 `T` も利用することができる（これらもよく出てくる演算で、定義は各行列を見てほしい）："
      ]
    },
    {
      "cell_type": "code",
      "metadata": {
        "colab_type": "code",
        "id": "GoetLCZMjDjm",
        "outputId": "0d419848-4d69-4649-c348-0e0c8edf8f71",
        "colab": {}
      },
      "source": [
        "represent(H(0),nqubits=1)"
      ],
      "execution_count": 0,
      "outputs": [
        {
          "output_type": "display_data",
          "data": {
            "text/html": [
              "\n",
              "    <script>\n",
              "        if (!window.MathJax && window.google && window.google.colab) {\n",
              "            window.MathJax = {\n",
              "                'tex2jax': {\n",
              "                    'inlineMath': [['$', '$'], ['\\(', '\\)']],\n",
              "                    'displayMath': [['$$', '$$'], ['\\[', '\\]']],\n",
              "                    'processEscapes': true,\n",
              "                    'processEnvironments': true,\n",
              "                    'skipTags': ['script', 'noscript', 'style', 'textarea', 'code'],\n",
              "                    'displayAlign': 'center',\n",
              "                },\n",
              "                'HTML-CSS': {\n",
              "                    'styles': {'.MathJax_Display': {'margin': 0}},\n",
              "                    'linebreaks': {'automatic': true},\n",
              "                    // Disable to prevent OTF font loading, which aren't part of our\n",
              "                    // distribution.\n",
              "                    'imageFont': null,\n",
              "                },\n",
              "               'messageStyle': 'none'\n",
              "            };\n",
              "            var script = document.createElement(\"script\");\n",
              "            script.src = \"https://colab.research.google.com/static/mathjax/MathJax.js?config=TeX-AMS_HTML-full,Safe\";\n",
              "            document.head.appendChild(script);\n",
              "        }\n",
              "    </script>\n",
              "    "
            ],
            "text/plain": [
              "<IPython.core.display.HTML object>"
            ]
          },
          "metadata": {
            "tags": []
          }
        },
        {
          "output_type": "execute_result",
          "data": {
            "image/png": "[encoded data removed]",
            "text/latex": "$$\\left[\\begin{matrix}\\frac{1}{\\sqrt{2}} & \\frac{1}{\\sqrt{2}}\\\\\\frac{1}{\\sqrt{2}} & - \\frac{\\sqrt{2}}{2}\\end{matrix}\\right]$$",
            "text/plain": [
              "⎡1    1  ⎤\n",
              "⎢──   ── ⎥\n",
              "⎢√2   √2 ⎥\n",
              "⎢        ⎥\n",
              "⎢1   -√2 ⎥\n",
              "⎢──  ────⎥\n",
              "⎣√2   2  ⎦"
            ]
          },
          "metadata": {
            "tags": []
          },
          "execution_count": 6
        }
      ]
    },
    {
      "cell_type": "code",
      "metadata": {
        "colab_type": "code",
        "id": "KHlhSKyAjDjp",
        "outputId": "718387c4-d682-435e-c0f6-e00a2d512f40",
        "colab": {}
      },
      "source": [
        "represent(S(0),nqubits=1)"
      ],
      "execution_count": 0,
      "outputs": [
        {
          "output_type": "display_data",
          "data": {
            "text/html": [
              "\n",
              "    <script>\n",
              "        if (!window.MathJax && window.google && window.google.colab) {\n",
              "            window.MathJax = {\n",
              "                'tex2jax': {\n",
              "                    'inlineMath': [['$', '$'], ['\\(', '\\)']],\n",
              "                    'displayMath': [['$$', '$$'], ['\\[', '\\]']],\n",
              "                    'processEscapes': true,\n",
              "                    'processEnvironments': true,\n",
              "                    'skipTags': ['script', 'noscript', 'style', 'textarea', 'code'],\n",
              "                    'displayAlign': 'center',\n",
              "                },\n",
              "                'HTML-CSS': {\n",
              "                    'styles': {'.MathJax_Display': {'margin': 0}},\n",
              "                    'linebreaks': {'automatic': true},\n",
              "                    // Disable to prevent OTF font loading, which aren't part of our\n",
              "                    // distribution.\n",
              "                    'imageFont': null,\n",
              "                },\n",
              "               'messageStyle': 'none'\n",
              "            };\n",
              "            var script = document.createElement(\"script\");\n",
              "            script.src = \"https://colab.research.google.com/static/mathjax/MathJax.js?config=TeX-AMS_HTML-full,Safe\";\n",
              "            document.head.appendChild(script);\n",
              "        }\n",
              "    </script>\n",
              "    "
            ],
            "text/plain": [
              "<IPython.core.display.HTML object>"
            ]
          },
          "metadata": {
            "tags": []
          }
        },
        {
          "output_type": "execute_result",
          "data": {
            "image/png": "[encoded data removed]",
            "text/latex": "$$\\left[\\begin{matrix}1 & 0\\\\0 & i\\end{matrix}\\right]$$",
            "text/plain": [
              "⎡1  0⎤\n",
              "⎢    ⎥\n",
              "⎣0  ⅈ⎦"
            ]
          },
          "metadata": {
            "tags": []
          },
          "execution_count": 7
        }
      ]
    },
    {
      "cell_type": "code",
      "metadata": {
        "colab_type": "code",
        "id": "JY4XPi5-jDjt",
        "outputId": "17949ae7-7d91-4070-a5dc-a6438a933f1e",
        "colab": {}
      },
      "source": [
        "represent(T(0),nqubits=1)"
      ],
      "execution_count": 0,
      "outputs": [
        {
          "output_type": "display_data",
          "data": {
            "text/html": [
              "\n",
              "    <script>\n",
              "        if (!window.MathJax && window.google && window.google.colab) {\n",
              "            window.MathJax = {\n",
              "                'tex2jax': {\n",
              "                    'inlineMath': [['$', '$'], ['\\(', '\\)']],\n",
              "                    'displayMath': [['$$', '$$'], ['\\[', '\\]']],\n",
              "                    'processEscapes': true,\n",
              "                    'processEnvironments': true,\n",
              "                    'skipTags': ['script', 'noscript', 'style', 'textarea', 'code'],\n",
              "                    'displayAlign': 'center',\n",
              "                },\n",
              "                'HTML-CSS': {\n",
              "                    'styles': {'.MathJax_Display': {'margin': 0}},\n",
              "                    'linebreaks': {'automatic': true},\n",
              "                    // Disable to prevent OTF font loading, which aren't part of our\n",
              "                    // distribution.\n",
              "                    'imageFont': null,\n",
              "                },\n",
              "               'messageStyle': 'none'\n",
              "            };\n",
              "            var script = document.createElement(\"script\");\n",
              "            script.src = \"https://colab.research.google.com/static/mathjax/MathJax.js?config=TeX-AMS_HTML-full,Safe\";\n",
              "            document.head.appendChild(script);\n",
              "        }\n",
              "    </script>\n",
              "    "
            ],
            "text/plain": [
              "<IPython.core.display.HTML object>"
            ]
          },
          "metadata": {
            "tags": []
          }
        },
        {
          "output_type": "execute_result",
          "data": {
            "image/png": "[encoded data removed]",
            "text/latex": "$$\\left[\\begin{matrix}1 & 0\\\\0 & e^{\\frac{i \\pi}{4}}\\end{matrix}\\right]$$",
            "text/plain": [
              "⎡1   0  ⎤\n",
              "⎢       ⎥\n",
              "⎢    ⅈ⋅π⎥\n",
              "⎢    ───⎥\n",
              "⎢     4 ⎥\n",
              "⎣0  ℯ   ⎦"
            ]
          },
          "metadata": {
            "tags": []
          },
          "execution_count": 8
        }
      ]
    },
    {
      "cell_type": "markdown",
      "metadata": {
        "colab_type": "text",
        "id": "WHJnjJlUjDjw"
      },
      "source": [
        "これらの演算を状態に作用させるのは、"
      ]
    },
    {
      "cell_type": "code",
      "metadata": {
        "colab_type": "code",
        "id": "PDa71nXCjDjw",
        "outputId": "c10c626d-5fd4-453a-fc96-d3d77bcbdfa6",
        "colab": {}
      },
      "source": [
        "ket0 = Qubit('0')\n",
        "S(0)*Y(0)*X(0)*H(0)*ket0"
      ],
      "execution_count": 0,
      "outputs": [
        {
          "output_type": "display_data",
          "data": {
            "text/html": [
              "\n",
              "    <script>\n",
              "        if (!window.MathJax && window.google && window.google.colab) {\n",
              "            window.MathJax = {\n",
              "                'tex2jax': {\n",
              "                    'inlineMath': [['$', '$'], ['\\(', '\\)']],\n",
              "                    'displayMath': [['$$', '$$'], ['\\[', '\\]']],\n",
              "                    'processEscapes': true,\n",
              "                    'processEnvironments': true,\n",
              "                    'skipTags': ['script', 'noscript', 'style', 'textarea', 'code'],\n",
              "                    'displayAlign': 'center',\n",
              "                },\n",
              "                'HTML-CSS': {\n",
              "                    'styles': {'.MathJax_Display': {'margin': 0}},\n",
              "                    'linebreaks': {'automatic': true},\n",
              "                    // Disable to prevent OTF font loading, which aren't part of our\n",
              "                    // distribution.\n",
              "                    'imageFont': null,\n",
              "                },\n",
              "               'messageStyle': 'none'\n",
              "            };\n",
              "            var script = document.createElement(\"script\");\n",
              "            script.src = \"https://colab.research.google.com/static/mathjax/MathJax.js?config=TeX-AMS_HTML-full,Safe\";\n",
              "            document.head.appendChild(script);\n",
              "        }\n",
              "    </script>\n",
              "    "
            ],
            "text/plain": [
              "<IPython.core.display.HTML object>"
            ]
          },
          "metadata": {
            "tags": []
          }
        },
        {
          "output_type": "execute_result",
          "data": {
            "image/png": "[encoded data removed]",
            "text/latex": "$\\displaystyle S_{0} Y_{0} X_{0} H_{0} {\\left|0\\right\\rangle }$",
            "text/plain": [
              "S ⋅Y ⋅X ⋅H ⋅❘0⟩\n",
              " 0  0  0  0    "
            ]
          },
          "metadata": {
            "tags": []
          },
          "execution_count": 4
        }
      ]
    },
    {
      "cell_type": "markdown",
      "metadata": {
        "colab_type": "text",
        "id": "fC08tDbvjDjy"
      },
      "source": [
        "のように `*`で書くことができる。実際に計算をする場合は `qapply()`を利用する。"
      ]
    },
    {
      "cell_type": "code",
      "metadata": {
        "colab_type": "code",
        "id": "lJvga4X4jDj5",
        "outputId": "372213bc-d074-44c8-b1ea-0c635a8c5acb",
        "colab": {}
      },
      "source": [
        "qapply(S(0)*Y(0)*X(0)*H(0)*ket0)"
      ],
      "execution_count": 0,
      "outputs": [
        {
          "output_type": "display_data",
          "data": {
            "text/html": [
              "\n",
              "    <script>\n",
              "        if (!window.MathJax && window.google && window.google.colab) {\n",
              "            window.MathJax = {\n",
              "                'tex2jax': {\n",
              "                    'inlineMath': [['$', '$'], ['\\(', '\\)']],\n",
              "                    'displayMath': [['$$', '$$'], ['\\[', '\\]']],\n",
              "                    'processEscapes': true,\n",
              "                    'processEnvironments': true,\n",
              "                    'skipTags': ['script', 'noscript', 'style', 'textarea', 'code'],\n",
              "                    'displayAlign': 'center',\n",
              "                },\n",
              "                'HTML-CSS': {\n",
              "                    'styles': {'.MathJax_Display': {'margin': 0}},\n",
              "                    'linebreaks': {'automatic': true},\n",
              "                    // Disable to prevent OTF font loading, which aren't part of our\n",
              "                    // distribution.\n",
              "                    'imageFont': null,\n",
              "                },\n",
              "               'messageStyle': 'none'\n",
              "            };\n",
              "            var script = document.createElement(\"script\");\n",
              "            script.src = \"https://colab.research.google.com/static/mathjax/MathJax.js?config=TeX-AMS_HTML-full,Safe\";\n",
              "            document.head.appendChild(script);\n",
              "        }\n",
              "    </script>\n",
              "    "
            ],
            "text/plain": [
              "<IPython.core.display.HTML object>"
            ]
          },
          "metadata": {
            "tags": []
          }
        },
        {
          "output_type": "execute_result",
          "data": {
            "image/png": "[encoded data removed]",
            "text/latex": "$$- \\frac{\\sqrt{2} i {\\left|0\\right\\rangle }}{2} - \\frac{\\sqrt{2} {\\left|1\\right\\rangle }}{2}$$",
            "text/plain": [
              "  √2⋅ⅈ⋅❘0⟩   √2⋅❘1⟩\n",
              "- ──────── - ──────\n",
              "     2         2   "
            ]
          },
          "metadata": {
            "tags": []
          },
          "execution_count": 16
        }
      ]
    },
    {
      "cell_type": "markdown",
      "metadata": {
        "colab_type": "text",
        "id": "kl_ZWf5sjDj6"
      },
      "source": [
        "この列ベクトル表示が必要な場合は、"
      ]
    },
    {
      "cell_type": "code",
      "metadata": {
        "colab_type": "code",
        "id": "FrP7AO4XjDj6",
        "outputId": "8b5b8ca1-0082-4dca-a017-6b01caac9efb",
        "colab": {}
      },
      "source": [
        "represent(qapply(S(0)*Y(0)*X(0)*H(0)*ket0))"
      ],
      "execution_count": 0,
      "outputs": [
        {
          "output_type": "display_data",
          "data": {
            "text/html": [
              "\n",
              "    <script>\n",
              "        if (!window.MathJax && window.google && window.google.colab) {\n",
              "            window.MathJax = {\n",
              "                'tex2jax': {\n",
              "                    'inlineMath': [['$', '$'], ['\\(', '\\)']],\n",
              "                    'displayMath': [['$$', '$$'], ['\\[', '\\]']],\n",
              "                    'processEscapes': true,\n",
              "                    'processEnvironments': true,\n",
              "                    'skipTags': ['script', 'noscript', 'style', 'textarea', 'code'],\n",
              "                    'displayAlign': 'center',\n",
              "                },\n",
              "                'HTML-CSS': {\n",
              "                    'styles': {'.MathJax_Display': {'margin': 0}},\n",
              "                    'linebreaks': {'automatic': true},\n",
              "                    // Disable to prevent OTF font loading, which aren't part of our\n",
              "                    // distribution.\n",
              "                    'imageFont': null,\n",
              "                },\n",
              "               'messageStyle': 'none'\n",
              "            };\n",
              "            var script = document.createElement(\"script\");\n",
              "            script.src = \"https://colab.research.google.com/static/mathjax/MathJax.js?config=TeX-AMS_HTML-full,Safe\";\n",
              "            document.head.appendChild(script);\n",
              "        }\n",
              "    </script>\n",
              "    "
            ],
            "text/plain": [
              "<IPython.core.display.HTML object>"
            ]
          },
          "metadata": {
            "tags": []
          }
        },
        {
          "output_type": "execute_result",
          "data": {
            "image/png": "[encoded data removed]",
            "text/latex": "$$\\left[\\begin{matrix}- \\frac{\\sqrt{2} i}{2}\\\\- \\frac{\\sqrt{2}}{2}\\end{matrix}\\right]$$",
            "text/plain": [
              "⎡-√2⋅ⅈ ⎤\n",
              "⎢──────⎥\n",
              "⎢  2   ⎥\n",
              "⎢      ⎥\n",
              "⎢ -√2  ⎥\n",
              "⎢ ──── ⎥\n",
              "⎣  2   ⎦"
            ]
          },
          "metadata": {
            "tags": []
          },
          "execution_count": 17
        }
      ]
    },
    {
      "cell_type": "markdown",
      "metadata": {
        "colab_type": "text",
        "id": "Q0WS2GgrjDj8"
      },
      "source": [
        "のような感じで、SymPyは簡単な行列の計算はすべて自動的にやってくれる。"
      ]
    },
    {
      "cell_type": "markdown",
      "metadata": {
        "colab_type": "text",
        "id": "00CSXe8hjDj9"
      },
      "source": [
        "---\n",
        "\n",
        "### コラム：ブラケット記法\n",
        "ここで一旦、量子力学でよく用いられるブラケット記法というものについて整理しておく。ブラケット記法に慣れると非常に簡単に見通しよく計算を行うことができる。      \n",
        "\n",
        "列ベクトルは \n",
        "\n",
        "$$\n",
        "|\\psi \\rangle = \\left( \n",
        "\\begin{array}{c}\n",
        "\\alpha\n",
        "\\\\\n",
        "\\beta \n",
        "\\end{array}\n",
        "\\right)\n",
        "$$\n",
        "\n",
        "とかくのであった。これを**ケット**と呼ぶ。同様に、行ベクトルは\n",
        "\n",
        "$$\n",
        "\\langle \\psi | = ( |\\psi \\rangle ) ^{\\dagger} = ( \\alpha ^* , \\beta ^*)\n",
        "$$\n",
        "\n",
        "とかき、これを**ブラ**と呼ぶ。${\\dagger}$マークは転置と複素共役を取る操作で、列ベクトルを行ベクトルへと移す。\n",
        "\n",
        "２つのベクトル、\n",
        "\n",
        "$$\n",
        "|\\psi \\rangle = \\left( \n",
        "\\begin{array}{c}\n",
        "\\alpha\n",
        "\\\\\n",
        "\\beta \n",
        "\\end{array}\n",
        "\\right), \\;\\;\\;\n",
        "|\\phi \\rangle = \\left( \n",
        "\\begin{array}{c}\n",
        "\\gamma\n",
        "\\\\\n",
        "\\delta\n",
        "\\end{array}\n",
        "\\right)\n",
        "$$\n",
        "\n",
        "があったとする。ブラとケットを抱き合わせると\n",
        "\n",
        "$$\n",
        "\\langle \\phi | \\psi \\rangle = (\\gamma ^* , \\delta ^* ) \\left( \n",
        "\\begin{array}{c}\n",
        "\\alpha\n",
        "\\\\\n",
        "\\beta \n",
        "\\end{array}\n",
        "\\right) = \\gamma ^* \\alpha + \\delta ^* \\beta \n",
        "$$\n",
        "\n",
        "となり、**内積**に対応する。行ベクトルと列ベクトルをそれぞれブラ・ケットと呼ぶのは、このように並べて内積を取ると「ブラケット」になるからである。\n",
        "\n",
        "逆に、背中合わせにすると\n",
        "\n",
        "$$\n",
        "|\\phi \\rangle \\langle \\psi | = \\left( \n",
        "\\begin{array}{c}\n",
        "\\gamma\n",
        "\\\\\n",
        "\\delta\n",
        "\\end{array}\n",
        "\\right) (\\alpha ^* , \\beta ^*) = \\left( \n",
        "\\begin{array}{cc}\n",
        "\\gamma \\alpha ^*  & \\gamma \\beta ^* \n",
        "\\\\\n",
        "\\delta \\alpha ^*   & \\delta \\beta ^*\n",
        "\\end{array}\n",
        "\\right)\n",
        "$$\n",
        "\n",
        "となり、演算子となる。例えば、$X$演算子は\n",
        "\n",
        "$$\n",
        "X= \\left( \n",
        "\\begin{array}{cc}\n",
        "0 & 1 \n",
        "\\\\\n",
        "1 & 0 \n",
        "\\end{array}\n",
        "\\right)\n",
        "=\n",
        "|0\\rangle \\langle 1 | + |1\\rangle \\langle 0|\n",
        "$$\n",
        "\n",
        "のように書ける。このことを覚えておけば\n",
        "\n",
        "$$\n",
        "\\langle 0| 0\\rangle = \\langle 1 | 1\\rangle = 1, \\;\\;\\; \\langle 0 | 1 \\rangle = \\langle 1 | 0 \\rangle = 0\n",
        "$$\n",
        "\n",
        "から \n",
        "\n",
        "$$\n",
        "X |0\\rangle = |1\\rangle\n",
        "$$\n",
        "\n",
        "を行列を書かずに計算できるようになる。   \n",
        "**量子情報の解析計算においては、実際にベクトルの要素を書き下して計算をすることはほとんどなく、このようにブラケットを使って形式的に書いて計算してしまう場合が多い**（古典計算機上で量子コンピュータをシミュレーションする場合はベクトルをすべて書き下すことになる）。\n",
        "\n",
        "同様に、\n",
        "\n",
        "$$\n",
        "I = |0\\rangle \\langle 0 | + |1\\rangle \\langle 1| , \\;\\;\\; Z = |0\\rangle \\langle 0| - |1\\rangle \\langle 1| \n",
        "$$\n",
        "\n",
        "も覚えておくと便利である。\n"
      ]
    }
  ]
}