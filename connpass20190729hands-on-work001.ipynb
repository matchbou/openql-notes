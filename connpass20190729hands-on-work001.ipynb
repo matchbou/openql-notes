{
  "nbformat": 4,
  "nbformat_minor": 0,
  "metadata": {
    "colab": {
      "name": "Colaboratory へようこそ",
      "version": "0.3.2",
      "provenance": [],
      "collapsed_sections": [],
      "include_colab_link": true
    },
    "kernelspec": {
      "display_name": "Python 3",
      "name": "python3"
    }
  },
  "cells": [
    {
      "cell_type": "markdown",
      "metadata": {
        "id": "view-in-github",
        "colab_type": "text"
      },
      "source": [
        "<a href=\"https://colab.research.google.com/github/matchbou/openql-notes/blob/master/connpass20190729hands-on-work001.ipynb\" target=\"_parent\"><img src=\"https://colab.research.google.com/assets/colab-badge.svg\" alt=\"Open In Colab\"/></a>"
      ]
    },
    {
      "cell_type": "code",
      "metadata": {
        "id": "K2kmSnOieAim",
        "colab_type": "code",
        "outputId": "147ba46f-94be-4383-d2d9-9db8ce886413",
        "colab": {
          "base_uri": "https://localhost:8080/",
          "height": 515
        }
      },
      "source": [
        "!pip install imgaug==0.2.5"
      ],
      "execution_count": 1,
      "outputs": [
        {
          "output_type": "stream",
          "text": [
            "Collecting imgaug==0.2.5\n",
            "\u001b[?25l  Downloading https://files.pythonhosted.org/packages/d2/60/a06a48d85a7e9062f5870347a3e3e953da30b37928d43b380c949bca458a/imgaug-0.2.5.tar.gz (562kB)\n",
            "\u001b[K     |████████████████████████████████| 563kB 5.0MB/s \n",
            "\u001b[?25hRequirement already satisfied: scipy in /usr/local/lib/python3.6/dist-packages (from imgaug==0.2.5) (1.3.0)\n",
            "Requirement already satisfied: scikit-image>=0.11.0 in /usr/local/lib/python3.6/dist-packages (from imgaug==0.2.5) (0.15.0)\n",
            "Requirement already satisfied: numpy>=1.7.0 in /usr/local/lib/python3.6/dist-packages (from imgaug==0.2.5) (1.16.4)\n",
            "Requirement already satisfied: six in /usr/local/lib/python3.6/dist-packages (from imgaug==0.2.5) (1.12.0)\n",
            "Requirement already satisfied: matplotlib!=3.0.0,>=2.0.0 in /usr/local/lib/python3.6/dist-packages (from scikit-image>=0.11.0->imgaug==0.2.5) (3.0.3)\n",
            "Requirement already satisfied: networkx>=2.0 in /usr/local/lib/python3.6/dist-packages (from scikit-image>=0.11.0->imgaug==0.2.5) (2.3)\n",
            "Requirement already satisfied: imageio>=2.0.1 in /usr/local/lib/python3.6/dist-packages (from scikit-image>=0.11.0->imgaug==0.2.5) (2.4.1)\n",
            "Requirement already satisfied: pillow>=4.3.0 in /usr/local/lib/python3.6/dist-packages (from scikit-image>=0.11.0->imgaug==0.2.5) (4.3.0)\n",
            "Requirement already satisfied: PyWavelets>=0.4.0 in /usr/local/lib/python3.6/dist-packages (from scikit-image>=0.11.0->imgaug==0.2.5) (1.0.3)\n",
            "Requirement already satisfied: pyparsing!=2.0.4,!=2.1.2,!=2.1.6,>=2.0.1 in /usr/local/lib/python3.6/dist-packages (from matplotlib!=3.0.0,>=2.0.0->scikit-image>=0.11.0->imgaug==0.2.5) (2.4.0)\n",
            "Requirement already satisfied: python-dateutil>=2.1 in /usr/local/lib/python3.6/dist-packages (from matplotlib!=3.0.0,>=2.0.0->scikit-image>=0.11.0->imgaug==0.2.5) (2.5.3)\n",
            "Requirement already satisfied: cycler>=0.10 in /usr/local/lib/python3.6/dist-packages (from matplotlib!=3.0.0,>=2.0.0->scikit-image>=0.11.0->imgaug==0.2.5) (0.10.0)\n",
            "Requirement already satisfied: kiwisolver>=1.0.1 in /usr/local/lib/python3.6/dist-packages (from matplotlib!=3.0.0,>=2.0.0->scikit-image>=0.11.0->imgaug==0.2.5) (1.1.0)\n",
            "Requirement already satisfied: decorator>=4.3.0 in /usr/local/lib/python3.6/dist-packages (from networkx>=2.0->scikit-image>=0.11.0->imgaug==0.2.5) (4.4.0)\n",
            "Requirement already satisfied: olefile in /usr/local/lib/python3.6/dist-packages (from pillow>=4.3.0->scikit-image>=0.11.0->imgaug==0.2.5) (0.46)\n",
            "Requirement already satisfied: setuptools in /usr/local/lib/python3.6/dist-packages (from kiwisolver>=1.0.1->matplotlib!=3.0.0,>=2.0.0->scikit-image>=0.11.0->imgaug==0.2.5) (41.0.1)\n",
            "Building wheels for collected packages: imgaug\n",
            "  Building wheel for imgaug (setup.py) ... \u001b[?25l\u001b[?25hdone\n",
            "  Stored in directory: /root/.cache/pip/wheels/31/48/c8/ca3345e8582a078de94243996e148377ef66fdb845557bae0b\n",
            "Successfully built imgaug\n",
            "Installing collected packages: imgaug\n",
            "  Found existing installation: imgaug 0.2.9\n",
            "    Uninstalling imgaug-0.2.9:\n",
            "      Successfully uninstalled imgaug-0.2.9\n",
            "Successfully installed imgaug-0.2.5\n"
          ],
          "name": "stdout"
        }
      ]
    },
    {
      "cell_type": "code",
      "metadata": {
        "id": "E6i222eAeCdF",
        "colab_type": "code",
        "outputId": "dfdbf7d2-2153-4c3f-c415-d123aa551f5b",
        "colab": {
          "base_uri": "https://localhost:8080/",
          "height": 242
        }
      },
      "source": [
        "!pip install blueqat"
      ],
      "execution_count": 2,
      "outputs": [
        {
          "output_type": "stream",
          "text": [
            "Collecting blueqat\n",
            "\u001b[?25l  Downloading https://files.pythonhosted.org/packages/55/94/0e80926933ec8d69a5c98454b59db4c772a7d7d1699f574a55aa53271941/blueqat-0.3.8-py3-none-any.whl (46kB)\n",
            "\r\u001b[K     |███████                         | 10kB 12.5MB/s eta 0:00:01\r\u001b[K     |██████████████▏                 | 20kB 3.4MB/s eta 0:00:01\r\u001b[K     |█████████████████████▏          | 30kB 4.9MB/s eta 0:00:01\r\u001b[K     |████████████████████████████▎   | 40kB 3.2MB/s eta 0:00:01\r\u001b[K     |████████████████████████████████| 51kB 3.5MB/s \n",
            "\u001b[?25hCollecting scipy~=1.1.0 (from blueqat)\n",
            "\u001b[?25l  Downloading https://files.pythonhosted.org/packages/a8/0b/f163da98d3a01b3e0ef1cab8dd2123c34aee2bafbb1c5bffa354cc8a1730/scipy-1.1.0-cp36-cp36m-manylinux1_x86_64.whl (31.2MB)\n",
            "\u001b[K     |████████████████████████████████| 31.2MB 1.3MB/s \n",
            "\u001b[?25hRequirement already satisfied: numpy~=1.12 in /usr/local/lib/python3.6/dist-packages (from blueqat) (1.16.4)\n",
            "Installing collected packages: scipy, blueqat\n",
            "  Found existing installation: scipy 1.3.0\n",
            "    Uninstalling scipy-1.3.0:\n",
            "      Successfully uninstalled scipy-1.3.0\n",
            "Successfully installed blueqat-0.3.8 scipy-1.1.0\n"
          ],
          "name": "stdout"
        }
      ]
    },
    {
      "cell_type": "code",
      "metadata": {
        "id": "OTJo9dwBeESl",
        "colab_type": "code",
        "outputId": "b1b0991b-e45e-4896-c466-219941e2d701",
        "colab": {
          "base_uri": "https://localhost:8080/",
          "height": 771
        }
      },
      "source": [
        "!pip install wildqat"
      ],
      "execution_count": 5,
      "outputs": [
        {
          "output_type": "stream",
          "text": [
            "Collecting wildqat\n",
            "  Downloading https://files.pythonhosted.org/packages/18/20/babcd0cabd564903f7dc5430a022bd5cf6cc9f440bdbb268318b9f261908/wildqat-1.1.9.tar.gz\n",
            "Collecting numpy==1.15.1 (from wildqat)\n",
            "\u001b[?25l  Downloading https://files.pythonhosted.org/packages/fe/94/7049fed8373c52839c8cde619acaf2c9b83082b935e5aa8c0fa27a4a8bcc/numpy-1.15.1-cp36-cp36m-manylinux1_x86_64.whl (13.9MB)\n",
            "\u001b[K     |████████████████████████████████| 13.9MB 5.7MB/s \n",
            "\u001b[?25hCollecting matplotlib==3.0.0 (from wildqat)\n",
            "\u001b[?25l  Downloading https://files.pythonhosted.org/packages/ed/89/dd823436a5f8d5ca9304b51b554863bfd366ca84708d5812f5ee87c923bc/matplotlib-3.0.0-cp36-cp36m-manylinux1_x86_64.whl (12.8MB)\n",
            "\u001b[K     |████████████████████████████████| 12.8MB 16.9MB/s \n",
            "\u001b[?25hCollecting networkx==2.2 (from wildqat)\n",
            "\u001b[?25l  Downloading https://files.pythonhosted.org/packages/f3/f4/7e20ef40b118478191cec0b58c3192f822cace858c19505c7670961b76b2/networkx-2.2.zip (1.7MB)\n",
            "\u001b[K     |████████████████████████████████| 1.7MB 37.6MB/s \n",
            "\u001b[?25hRequirement already satisfied: cycler>=0.10 in /usr/local/lib/python3.6/dist-packages (from matplotlib==3.0.0->wildqat) (0.10.0)\n",
            "Requirement already satisfied: pyparsing!=2.0.4,!=2.1.2,!=2.1.6,>=2.0.1 in /usr/local/lib/python3.6/dist-packages (from matplotlib==3.0.0->wildqat) (2.4.0)\n",
            "Requirement already satisfied: kiwisolver>=1.0.1 in /usr/local/lib/python3.6/dist-packages (from matplotlib==3.0.0->wildqat) (1.1.0)\n",
            "Requirement already satisfied: python-dateutil>=2.1 in /usr/local/lib/python3.6/dist-packages (from matplotlib==3.0.0->wildqat) (2.5.3)\n",
            "Requirement already satisfied: decorator>=4.3.0 in /usr/local/lib/python3.6/dist-packages (from networkx==2.2->wildqat) (4.4.0)\n",
            "Requirement already satisfied: six in /usr/local/lib/python3.6/dist-packages (from cycler>=0.10->matplotlib==3.0.0->wildqat) (1.12.0)\n",
            "Requirement already satisfied: setuptools in /usr/local/lib/python3.6/dist-packages (from kiwisolver>=1.0.1->matplotlib==3.0.0->wildqat) (41.0.1)\n",
            "Building wheels for collected packages: wildqat, networkx\n",
            "  Building wheel for wildqat (setup.py) ... \u001b[?25l\u001b[?25hdone\n",
            "  Stored in directory: /root/.cache/pip/wheels/bc/b5/17/e68df34616a7719b1aa093d9aacdf006fe5a1640811e0ae942\n",
            "  Building wheel for networkx (setup.py) ... \u001b[?25l\u001b[?25hdone\n",
            "  Stored in directory: /root/.cache/pip/wheels/68/f8/29/b53346a112a07d30a5a84d53f19aeadaa1a474897c0423af91\n",
            "Successfully built wildqat networkx\n",
            "\u001b[31mERROR: yellowbrick 0.9.1 has requirement matplotlib!=3.0.0,>=1.5.1, but you'll have matplotlib 3.0.0 which is incompatible.\u001b[0m\n",
            "\u001b[31mERROR: scikit-image 0.15.0 has requirement matplotlib!=3.0.0,>=2.0.0, but you'll have matplotlib 3.0.0 which is incompatible.\u001b[0m\n",
            "\u001b[31mERROR: datascience 0.10.6 has requirement folium==0.2.1, but you'll have folium 0.8.3 which is incompatible.\u001b[0m\n",
            "Installing collected packages: numpy, matplotlib, networkx, wildqat\n",
            "  Found existing installation: numpy 1.16.4\n",
            "    Uninstalling numpy-1.16.4:\n",
            "      Successfully uninstalled numpy-1.16.4\n",
            "  Found existing installation: matplotlib 3.0.3\n",
            "    Uninstalling matplotlib-3.0.3:\n",
            "      Successfully uninstalled matplotlib-3.0.3\n",
            "  Found existing installation: networkx 2.3\n",
            "    Uninstalling networkx-2.3:\n",
            "      Successfully uninstalled networkx-2.3\n",
            "Successfully installed matplotlib-3.0.0 networkx-2.2 numpy-1.15.1 wildqat-1.1.9\n"
          ],
          "name": "stdout"
        },
        {
          "output_type": "display_data",
          "data": {
            "application/vnd.colab-display-data+json": {
              "pip_warning": {
                "packages": [
                  "matplotlib",
                  "mpl_toolkits",
                  "numpy"
                ]
              }
            }
          },
          "metadata": {
            "tags": []
          }
        }
      ]
    },
    {
      "cell_type": "code",
      "metadata": {
        "id": "ph1A-Cbve1bt",
        "colab_type": "code",
        "colab": {}
      },
      "source": [
        "import blueqat\n",
        "import wildqat"
      ],
      "execution_count": 0,
      "outputs": []
    },
    {
      "cell_type": "code",
      "metadata": {
        "id": "jbPIv3ZcexUO",
        "colab_type": "code",
        "outputId": "82c02f39-0efe-4694-8bab-4a4f5a989192",
        "colab": {
          "base_uri": "https://localhost:8080/",
          "height": 736
        }
      },
      "source": [
        "!pip install dwave-ocean-sdk && dwave config create"
      ],
      "execution_count": 4,
      "outputs": [
        {
          "output_type": "stream",
          "text": [
            "Requirement already satisfied: dwave-ocean-sdk in /usr/local/lib/python3.6/dist-packages (1.4.0)\n",
            "Requirement already satisfied: dwave-hybrid<0.4.0,>=0.3.0 in /usr/local/lib/python3.6/dist-packages (from dwave-ocean-sdk) (0.3.1)\n",
            "Requirement already satisfied: pyqubo>=0.3.0 in /usr/local/lib/python3.6/dist-packages (from dwave-ocean-sdk) (0.4.0)\n",
            "Requirement already satisfied: dwave-networkx<0.9.0,>=0.8.0 in /usr/local/lib/python3.6/dist-packages (from dwave-ocean-sdk) (0.8.0)\n",
            "Requirement already satisfied: dwave-tabu<0.3.0,>=0.2.0 in /usr/local/lib/python3.6/dist-packages (from dwave-ocean-sdk) (0.2.0)\n",
            "Requirement already satisfied: dwave-neal<0.6.0,>=0.5.0 in /usr/local/lib/python3.6/dist-packages (from dwave-ocean-sdk) (0.5.1)\n",
            "Requirement already satisfied: dwave-system<0.8.0,>=0.7.0 in /usr/local/lib/python3.6/dist-packages (from dwave-ocean-sdk) (0.7.5)\n",
            "Requirement already satisfied: dimod<0.9.0,>=0.8.0 in /usr/local/lib/python3.6/dist-packages (from dwave-ocean-sdk) (0.8.14)\n",
            "Requirement already satisfied: numpy<1.16.0 in /usr/local/lib/python3.6/dist-packages (from dwave-ocean-sdk) (1.15.1)\n",
            "Requirement already satisfied: dwavebinarycsp[mip]<0.1.0,>=0.0.9; (platform_machine == \"x86_64\" or platform_machine == \"amd64\" or platform_machine == \"AMD64\") and python_version != \"3.4\" in /usr/local/lib/python3.6/dist-packages (from dwave-ocean-sdk) (0.0.11)\n",
            "Requirement already satisfied: dwave-qbsolv<0.3.0,>=0.2.7 in /usr/local/lib/python3.6/dist-packages (from dwave-ocean-sdk) (0.2.10)\n",
            "Requirement already satisfied: six>=1.10 in /usr/local/lib/python3.6/dist-packages (from dwave-hybrid<0.4.0,>=0.3.0->dwave-ocean-sdk) (1.12.0)\n",
            "Requirement already satisfied: minorminer>=0.1.7 in /usr/local/lib/python3.6/dist-packages (from dwave-hybrid<0.4.0,>=0.3.0->dwave-ocean-sdk) (0.1.8)\n",
            "Requirement already satisfied: networkx in /usr/local/lib/python3.6/dist-packages (from dwave-hybrid<0.4.0,>=0.3.0->dwave-ocean-sdk) (2.2)\n",
            "Requirement already satisfied: click>5 in /usr/local/lib/python3.6/dist-packages (from dwave-hybrid<0.4.0,>=0.3.0->dwave-ocean-sdk) (7.0)\n",
            "Requirement already satisfied: plucky>=0.4.3 in /usr/local/lib/python3.6/dist-packages (from dwave-hybrid<0.4.0,>=0.3.0->dwave-ocean-sdk) (0.4.3)\n",
            "Requirement already satisfied: decorator<5.0.0,>=4.1.0 in /usr/local/lib/python3.6/dist-packages (from dwave-networkx<0.9.0,>=0.8.0->dwave-ocean-sdk) (4.4.0)\n",
            "Requirement already satisfied: dwave-cloud-client<0.6.0,>=0.5.0 in /usr/local/lib/python3.6/dist-packages (from dwave-system<0.8.0,>=0.7.0->dwave-ocean-sdk) (0.5.4)\n",
            "Requirement already satisfied: homebase<2.0.0,>=1.0.0 in /usr/local/lib/python3.6/dist-packages (from dwave-system<0.8.0,>=0.7.0->dwave-ocean-sdk) (1.0.1)\n",
            "Requirement already satisfied: jsonschema<3.0.0,>=2.6.0 in /usr/local/lib/python3.6/dist-packages (from dimod<0.9.0,>=0.8.0->dwave-ocean-sdk) (2.6.0)\n",
            "Requirement already satisfied: penaltymodel-cache<0.5.0,>=0.4.0 in /usr/local/lib/python3.6/dist-packages (from dwavebinarycsp[mip]<0.1.0,>=0.0.9; (platform_machine == \"x86_64\" or platform_machine == \"amd64\" or platform_machine == \"AMD64\") and python_version != \"3.4\"->dwave-ocean-sdk) (0.4.0)\n",
            "Requirement already satisfied: penaltymodel<0.17.0,>=0.16.0 in /usr/local/lib/python3.6/dist-packages (from dwavebinarycsp[mip]<0.1.0,>=0.0.9; (platform_machine == \"x86_64\" or platform_machine == \"amd64\" or platform_machine == \"AMD64\") and python_version != \"3.4\"->dwave-ocean-sdk) (0.16.2)\n",
            "Requirement already satisfied: penaltymodel-mip<0.3.0,>=0.2.0; extra == \"mip\" in /usr/local/lib/python3.6/dist-packages (from dwavebinarycsp[mip]<0.1.0,>=0.0.9; (platform_machine == \"x86_64\" or platform_machine == \"amd64\" or platform_machine == \"AMD64\") and python_version != \"3.4\"->dwave-ocean-sdk) (0.2.1)\n",
            "Requirement already satisfied: requests[socks]>=2.18 in /usr/local/lib/python3.6/dist-packages (from dwave-cloud-client<0.6.0,>=0.5.0->dwave-system<0.8.0,>=0.7.0->dwave-ocean-sdk) (2.21.0)\n",
            "Requirement already satisfied: python-dateutil>=2.7 in /usr/local/lib/python3.6/dist-packages (from dwave-cloud-client<0.6.0,>=0.5.0->dwave-system<0.8.0,>=0.7.0->dwave-ocean-sdk) (2.8.0)\n",
            "Requirement already satisfied: ortools<7.0.0,>=6.6.4659 in /usr/local/lib/python3.6/dist-packages (from penaltymodel-mip<0.3.0,>=0.2.0; extra == \"mip\"->dwavebinarycsp[mip]<0.1.0,>=0.0.9; (platform_machine == \"x86_64\" or platform_machine == \"amd64\" or platform_machine == \"AMD64\") and python_version != \"3.4\"->dwave-ocean-sdk) (6.10.6025)\n",
            "Requirement already satisfied: chardet<3.1.0,>=3.0.2 in /usr/local/lib/python3.6/dist-packages (from requests[socks]>=2.18->dwave-cloud-client<0.6.0,>=0.5.0->dwave-system<0.8.0,>=0.7.0->dwave-ocean-sdk) (3.0.4)\n",
            "Requirement already satisfied: idna<2.9,>=2.5 in /usr/local/lib/python3.6/dist-packages (from requests[socks]>=2.18->dwave-cloud-client<0.6.0,>=0.5.0->dwave-system<0.8.0,>=0.7.0->dwave-ocean-sdk) (2.8)\n",
            "Requirement already satisfied: urllib3<1.25,>=1.21.1 in /usr/local/lib/python3.6/dist-packages (from requests[socks]>=2.18->dwave-cloud-client<0.6.0,>=0.5.0->dwave-system<0.8.0,>=0.7.0->dwave-ocean-sdk) (1.24.3)\n",
            "Requirement already satisfied: certifi>=2017.4.17 in /usr/local/lib/python3.6/dist-packages (from requests[socks]>=2.18->dwave-cloud-client<0.6.0,>=0.5.0->dwave-system<0.8.0,>=0.7.0->dwave-ocean-sdk) (2019.6.16)\n",
            "Requirement already satisfied: PySocks!=1.5.7,>=1.5.6; extra == \"socks\" in /usr/local/lib/python3.6/dist-packages (from requests[socks]>=2.18->dwave-cloud-client<0.6.0,>=0.5.0->dwave-system<0.8.0,>=0.7.0->dwave-ocean-sdk) (1.7.0)\n",
            "Requirement already satisfied: protobuf>=3.6.1 in /usr/local/lib/python3.6/dist-packages (from ortools<7.0.0,>=6.6.4659->penaltymodel-mip<0.3.0,>=0.2.0; extra == \"mip\"->dwavebinarycsp[mip]<0.1.0,>=0.0.9; (platform_machine == \"x86_64\" or platform_machine == \"amd64\" or platform_machine == \"AMD64\") and python_version != \"3.4\"->dwave-ocean-sdk) (3.7.1)\n",
            "Requirement already satisfied: setuptools in /usr/local/lib/python3.6/dist-packages (from protobuf>=3.6.1->ortools<7.0.0,>=6.6.4659->penaltymodel-mip<0.3.0,>=0.2.0; extra == \"mip\"->dwavebinarycsp[mip]<0.1.0,>=0.0.9; (platform_machine == \"x86_64\" or platform_machine == \"amd64\" or platform_machine == \"AMD64\") and python_version != \"3.4\"->dwave-ocean-sdk) (41.0.1)\n",
            "Found existing configuration file: /root/.config/dwave/dwave.conf\n",
            "Configuration file path [/root/.config/dwave/dwave.conf]: \n",
            "Profile (create new or choose from: prod): prod\n",
            "API endpoint URL [https://cloud.dwavesys.com/leap/]: https://cloud.dwavesys.com/sapi\n",
            "Authentication token [DEV-ddca80c30487ba608a2743b2105d60f8d6952fd0]: DEV-ddca80c30487ba608a2743b2105d60f8d6952fd0\n",
            "Default client class (qpu or sw) [gpu]: qpu\n",
            "Default solver [skip]: \n",
            "Configuration saved.\n"
          ],
          "name": "stdout"
        }
      ]
    },
    {
      "cell_type": "code",
      "metadata": {
        "id": "z43dHR6pKVW7",
        "colab_type": "code",
        "colab": {}
      },
      "source": [
        "from dwave.system.samplers import DWaveSampler"
      ],
      "execution_count": 0,
      "outputs": []
    },
    {
      "cell_type": "code",
      "metadata": {
        "id": "LRsF61GzKmPr",
        "colab_type": "code",
        "colab": {}
      },
      "source": [
        "from dwave.system.composites import EmbeddingComposite"
      ],
      "execution_count": 0,
      "outputs": []
    },
    {
      "cell_type": "code",
      "metadata": {
        "id": "ijnBy3HZKyU1",
        "colab_type": "code",
        "colab": {}
      },
      "source": [
        "sampler = EmbeddingComposite(DWaveSampler())\n"
      ],
      "execution_count": 0,
      "outputs": []
    },
    {
      "cell_type": "code",
      "metadata": {
        "id": "oIYL3nxdL2BF",
        "colab_type": "code",
        "colab": {}
      },
      "source": [
        "response = sampler.sample_ising({0:0},{},num_reads=10)"
      ],
      "execution_count": 0,
      "outputs": []
    },
    {
      "cell_type": "code",
      "metadata": {
        "id": "MBGcdPzzMOrL",
        "colab_type": "code",
        "colab": {
          "base_uri": "https://localhost:8080/",
          "height": 85
        },
        "outputId": "ca06660c-c3d7-4241-e26c-ce13b30a66b8"
      },
      "source": [
        "print(response)"
      ],
      "execution_count": 9,
      "outputs": [
        {
          "output_type": "stream",
          "text": [
            "   0 energy num_oc. chain_.\n",
            "0 -1    0.0       4     0.0\n",
            "1 +1    0.0       6     0.0\n",
            "['SPIN', 2 rows, 10 samples, 1 variables]\n"
          ],
          "name": "stdout"
        }
      ]
    },
    {
      "cell_type": "markdown",
      "metadata": {
        "id": "pw9D9G8CMX3c",
        "colab_type": "text"
      },
      "source": [
        ""
      ]
    }
  ]
}