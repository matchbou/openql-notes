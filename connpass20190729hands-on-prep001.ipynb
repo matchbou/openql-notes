{
  "nbformat": 4,
  "nbformat_minor": 0,
  "metadata": {
    "colab": {
      "name": "Colaboratory へようこそ",
      "version": "0.3.2",
      "provenance": [],
      "collapsed_sections": [],
      "include_colab_link": true
    },
    "kernelspec": {
      "display_name": "Python 3",
      "name": "python3"
    }
  },
  "cells": [
    {
      "cell_type": "markdown",
      "metadata": {
        "id": "view-in-github",
        "colab_type": "text"
      },
      "source": [
        "<a href=\"https://colab.research.google.com/github/matchbou/openql-notes/blob/master/connpass20190729hands-on-prep001.ipynb\" target=\"_parent\"><img src=\"https://colab.research.google.com/assets/colab-badge.svg\" alt=\"Open In Colab\"/></a>"
      ]
    },
    {
      "cell_type": "code",
      "metadata": {
        "id": "K2kmSnOieAim",
        "colab_type": "code",
        "colab": {
          "base_uri": "https://localhost:8080/",
          "height": 766
        },
        "outputId": "05875304-2ba3-4aaf-9913-bbe14d654651"
      },
      "source": [
        "!pip install imgaug==0.2.5"
      ],
      "execution_count": 1,
      "outputs": [
        {
          "output_type": "stream",
          "text": [
            "Collecting imgaug==0.2.5\n",
            "\u001b[?25l  Downloading https://files.pythonhosted.org/packages/d2/60/a06a48d85a7e9062f5870347a3e3e953da30b37928d43b380c949bca458a/imgaug-0.2.5.tar.gz (562kB)\n",
            "\u001b[K     |████████████████████████████████| 563kB 2.8MB/s \n",
            "\u001b[?25hRequirement already satisfied: scipy in /usr/local/lib/python3.6/dist-packages (from imgaug==0.2.5) (1.3.0)\n",
            "Requirement already satisfied: scikit-image>=0.11.0 in /usr/local/lib/python3.6/dist-packages (from imgaug==0.2.5) (0.15.0)\n",
            "Requirement already satisfied: numpy>=1.7.0 in /usr/local/lib/python3.6/dist-packages (from imgaug==0.2.5) (1.16.4)\n",
            "Requirement already satisfied: six in /usr/local/lib/python3.6/dist-packages (from imgaug==0.2.5) (1.12.0)\n",
            "Requirement already satisfied: pillow>=4.3.0 in /usr/local/lib/python3.6/dist-packages (from scikit-image>=0.11.0->imgaug==0.2.5) (4.3.0)\n",
            "Requirement already satisfied: matplotlib!=3.0.0,>=2.0.0 in /usr/local/lib/python3.6/dist-packages (from scikit-image>=0.11.0->imgaug==0.2.5) (3.0.3)\n",
            "Requirement already satisfied: networkx>=2.0 in /usr/local/lib/python3.6/dist-packages (from scikit-image>=0.11.0->imgaug==0.2.5) (2.3)\n",
            "Requirement already satisfied: imageio>=2.0.1 in /usr/local/lib/python3.6/dist-packages (from scikit-image>=0.11.0->imgaug==0.2.5) (2.4.1)\n",
            "Requirement already satisfied: PyWavelets>=0.4.0 in /usr/local/lib/python3.6/dist-packages (from scikit-image>=0.11.0->imgaug==0.2.5) (1.0.3)\n",
            "Requirement already satisfied: olefile in /usr/local/lib/python3.6/dist-packages (from pillow>=4.3.0->scikit-image>=0.11.0->imgaug==0.2.5) (0.46)\n",
            "Requirement already satisfied: cycler>=0.10 in /usr/local/lib/python3.6/dist-packages (from matplotlib!=3.0.0,>=2.0.0->scikit-image>=0.11.0->imgaug==0.2.5) (0.10.0)\n",
            "Requirement already satisfied: python-dateutil>=2.1 in /usr/local/lib/python3.6/dist-packages (from matplotlib!=3.0.0,>=2.0.0->scikit-image>=0.11.0->imgaug==0.2.5) (2.5.3)\n",
            "Requirement already satisfied: pyparsing!=2.0.4,!=2.1.2,!=2.1.6,>=2.0.1 in /usr/local/lib/python3.6/dist-packages (from matplotlib!=3.0.0,>=2.0.0->scikit-image>=0.11.0->imgaug==0.2.5) (2.4.0)\n",
            "Requirement already satisfied: kiwisolver>=1.0.1 in /usr/local/lib/python3.6/dist-packages (from matplotlib!=3.0.0,>=2.0.0->scikit-image>=0.11.0->imgaug==0.2.5) (1.1.0)\n",
            "Requirement already satisfied: decorator>=4.3.0 in /usr/local/lib/python3.6/dist-packages (from networkx>=2.0->scikit-image>=0.11.0->imgaug==0.2.5) (4.4.0)\n",
            "Requirement already satisfied: setuptools in /usr/local/lib/python3.6/dist-packages (from kiwisolver>=1.0.1->matplotlib!=3.0.0,>=2.0.0->scikit-image>=0.11.0->imgaug==0.2.5) (41.0.1)\n",
            "Building wheels for collected packages: imgaug\n",
            "  Building wheel for imgaug (setup.py) ... \u001b[?25l\u001b[?25hdone\n",
            "  Stored in directory: /root/.cache/pip/wheels/31/48/c8/ca3345e8582a078de94243996e148377ef66fdb845557bae0b\n",
            "Successfully built imgaug\n",
            "Installing collected packages: imgaug\n",
            "  Found existing installation: imgaug 0.2.9\n",
            "    Uninstalling imgaug-0.2.9:\n",
            "      Successfully uninstalled imgaug-0.2.9\n",
            "Successfully installed imgaug-0.2.5\n"
          ],
          "name": "stdout"
        }
      ]
    },
    {
      "cell_type": "code",
      "metadata": {
        "id": "E6i222eAeCdF",
        "colab_type": "code",
        "colab": {
          "base_uri": "https://localhost:8080/",
          "height": 304
        },
        "outputId": "73dedb78-3c35-4d2f-d21f-d4a9525a1f6d"
      },
      "source": [
        "!pip install blueqat"
      ],
      "execution_count": 2,
      "outputs": [
        {
          "output_type": "stream",
          "text": [
            "Collecting blueqat\n",
            "  Downloading https://files.pythonhosted.org/packages/e2/0a/01812c846251da08f78b3f730b60c4061af8543aa6b79ce46e9345a02475/blueqat-0.3.7-py3-none-any.whl\n",
            "Requirement already satisfied: numpy~=1.12 in /usr/local/lib/python3.6/dist-packages (from blueqat) (1.16.4)\n",
            "Collecting scipy==1.1.0 (from blueqat)\n",
            "\u001b[?25l  Downloading https://files.pythonhosted.org/packages/a8/0b/f163da98d3a01b3e0ef1cab8dd2123c34aee2bafbb1c5bffa354cc8a1730/scipy-1.1.0-cp36-cp36m-manylinux1_x86_64.whl (31.2MB)\n",
            "\u001b[K     |████████████████████████████████| 31.2MB 39.4MB/s \n",
            "\u001b[?25hInstalling collected packages: scipy, blueqat\n",
            "  Found existing installation: scipy 1.3.0\n",
            "    Uninstalling scipy-1.3.0:\n",
            "      Successfully uninstalled scipy-1.3.0\n",
            "Successfully installed blueqat-0.3.7 scipy-1.1.0\n"
          ],
          "name": "stdout"
        }
      ]
    },
    {
      "cell_type": "code",
      "metadata": {
        "id": "OTJo9dwBeESl",
        "colab_type": "code",
        "colab": {
          "base_uri": "https://localhost:8080/",
          "height": 1000
        },
        "outputId": "1f25f984-71f9-4f65-bd56-45ded341f78f"
      },
      "source": [
        "!pip install wildqat"
      ],
      "execution_count": 3,
      "outputs": [
        {
          "output_type": "stream",
          "text": [
            "Collecting wildqat\n",
            "  Downloading https://files.pythonhosted.org/packages/18/20/babcd0cabd564903f7dc5430a022bd5cf6cc9f440bdbb268318b9f261908/wildqat-1.1.9.tar.gz\n",
            "Collecting numpy==1.15.1 (from wildqat)\n",
            "\u001b[?25l  Downloading https://files.pythonhosted.org/packages/fe/94/7049fed8373c52839c8cde619acaf2c9b83082b935e5aa8c0fa27a4a8bcc/numpy-1.15.1-cp36-cp36m-manylinux1_x86_64.whl (13.9MB)\n",
            "\u001b[K     |████████████████████████████████| 13.9MB 4.2MB/s \n",
            "\u001b[?25hCollecting matplotlib==3.0.0 (from wildqat)\n",
            "\u001b[?25l  Downloading https://files.pythonhosted.org/packages/ed/89/dd823436a5f8d5ca9304b51b554863bfd366ca84708d5812f5ee87c923bc/matplotlib-3.0.0-cp36-cp36m-manylinux1_x86_64.whl (12.8MB)\n",
            "\u001b[K     |████████████████████████████████| 12.8MB 31.2MB/s \n",
            "\u001b[?25hCollecting networkx==2.2 (from wildqat)\n",
            "\u001b[?25l  Downloading https://files.pythonhosted.org/packages/f3/f4/7e20ef40b118478191cec0b58c3192f822cace858c19505c7670961b76b2/networkx-2.2.zip (1.7MB)\n",
            "\u001b[K     |████████████████████████████████| 1.7MB 36.1MB/s \n",
            "\u001b[?25hRequirement already satisfied: python-dateutil>=2.1 in /usr/local/lib/python3.6/dist-packages (from matplotlib==3.0.0->wildqat) (2.5.3)\n",
            "Requirement already satisfied: kiwisolver>=1.0.1 in /usr/local/lib/python3.6/dist-packages (from matplotlib==3.0.0->wildqat) (1.1.0)\n",
            "Requirement already satisfied: pyparsing!=2.0.4,!=2.1.2,!=2.1.6,>=2.0.1 in /usr/local/lib/python3.6/dist-packages (from matplotlib==3.0.0->wildqat) (2.4.0)\n",
            "Requirement already satisfied: cycler>=0.10 in /usr/local/lib/python3.6/dist-packages (from matplotlib==3.0.0->wildqat) (0.10.0)\n",
            "Requirement already satisfied: decorator>=4.3.0 in /usr/local/lib/python3.6/dist-packages (from networkx==2.2->wildqat) (4.4.0)\n",
            "Requirement already satisfied: six>=1.5 in /usr/local/lib/python3.6/dist-packages (from python-dateutil>=2.1->matplotlib==3.0.0->wildqat) (1.12.0)\n",
            "Requirement already satisfied: setuptools in /usr/local/lib/python3.6/dist-packages (from kiwisolver>=1.0.1->matplotlib==3.0.0->wildqat) (41.0.1)\n",
            "Building wheels for collected packages: wildqat, networkx\n",
            "  Building wheel for wildqat (setup.py) ... \u001b[?25l\u001b[?25hdone\n",
            "  Stored in directory: /root/.cache/pip/wheels/bc/b5/17/e68df34616a7719b1aa093d9aacdf006fe5a1640811e0ae942\n",
            "  Building wheel for networkx (setup.py) ... \u001b[?25l\u001b[?25hdone\n",
            "  Stored in directory: /root/.cache/pip/wheels/68/f8/29/b53346a112a07d30a5a84d53f19aeadaa1a474897c0423af91\n",
            "Successfully built wildqat networkx\n",
            "\u001b[31mERROR: yellowbrick 0.9.1 has requirement matplotlib!=3.0.0,>=1.5.1, but you'll have matplotlib 3.0.0 which is incompatible.\u001b[0m\n",
            "\u001b[31mERROR: scikit-image 0.15.0 has requirement matplotlib!=3.0.0,>=2.0.0, but you'll have matplotlib 3.0.0 which is incompatible.\u001b[0m\n",
            "\u001b[31mERROR: datascience 0.10.6 has requirement folium==0.2.1, but you'll have folium 0.8.3 which is incompatible.\u001b[0m\n",
            "Installing collected packages: numpy, matplotlib, networkx, wildqat\n",
            "  Found existing installation: numpy 1.16.4\n",
            "    Uninstalling numpy-1.16.4:\n",
            "      Successfully uninstalled numpy-1.16.4\n",
            "  Found existing installation: matplotlib 3.0.3\n",
            "    Uninstalling matplotlib-3.0.3:\n",
            "      Successfully uninstalled matplotlib-3.0.3\n",
            "  Found existing installation: networkx 2.3\n",
            "    Uninstalling networkx-2.3:\n",
            "      Successfully uninstalled networkx-2.3\n",
            "Successfully installed matplotlib-3.0.0 networkx-2.2 numpy-1.15.1 wildqat-1.1.9\n"
          ],
          "name": "stdout"
        },
        {
          "output_type": "display_data",
          "data": {
            "application/vnd.colab-display-data+json": {
              "pip_warning": {
                "packages": [
                  "matplotlib",
                  "mpl_toolkits",
                  "numpy"
                ]
              }
            }
          },
          "metadata": {
            "tags": []
          }
        }
      ]
    },
    {
      "cell_type": "code",
      "metadata": {
        "id": "ph1A-Cbve1bt",
        "colab_type": "code",
        "colab": {}
      },
      "source": [
        "import blueqat\n",
        "import wildqat"
      ],
      "execution_count": 0,
      "outputs": []
    },
    {
      "cell_type": "code",
      "metadata": {
        "id": "jbPIv3ZcexUO",
        "colab_type": "code",
        "colab": {
          "base_uri": "https://localhost:8080/",
          "height": 1000
        },
        "outputId": "a1163c1b-9027-45d6-9251-51db5e6905b0"
      },
      "source": [
        "!pip install dwave-ocean-sdk && dwave config create"
      ],
      "execution_count": 2,
      "outputs": [
        {
          "output_type": "stream",
          "text": [
            "Collecting dwave-ocean-sdk\n",
            "  Downloading https://files.pythonhosted.org/packages/44/ba/dc5de48516b9a236859dc958ecff6294d59e42d7364b13de86f9c4eccb40/dwave_ocean_sdk-1.4.0-py2.py3-none-any.whl\n",
            "Collecting dimod<0.9.0,>=0.8.0 (from dwave-ocean-sdk)\n",
            "\u001b[?25l  Downloading https://files.pythonhosted.org/packages/fe/33/c2265d92c214004bb9216a228af9626fa65fccf3aa6ca729037ba947c54b/dimod-0.8.14-cp36-cp36m-manylinux1_x86_64.whl (828kB)\n",
            "\u001b[K     |████████████████████████████████| 829kB 4.2MB/s \n",
            "\u001b[?25hCollecting dwave-hybrid<0.4.0,>=0.3.0 (from dwave-ocean-sdk)\n",
            "\u001b[?25l  Downloading https://files.pythonhosted.org/packages/50/77/0f6012e2502d5dc731b134ff1c3d9a1a269cf3eb7006e1a591c2e4bbe30e/dwave_hybrid-0.3.1-py2.py3-none-any.whl (80kB)\n",
            "\u001b[K     |████████████████████████████████| 81kB 25.6MB/s \n",
            "\u001b[?25hCollecting pyqubo>=0.3.0 (from dwave-ocean-sdk)\n",
            "  Downloading https://files.pythonhosted.org/packages/28/57/ba41de3b13ba23e981463aa1daa2ebe6bd9dcddb15571e4c5905463326c7/pyqubo-0.4.0.tar.gz\n",
            "Requirement already satisfied: numpy<1.16.0 in /usr/local/lib/python3.6/dist-packages (from dwave-ocean-sdk) (1.15.1)\n",
            "Collecting dwave-system<0.8.0,>=0.7.0 (from dwave-ocean-sdk)\n",
            "\u001b[?25l  Downloading https://files.pythonhosted.org/packages/55/9d/47e0593011be3d6fe565621ed429f39e421f0bf66f77cab27a5718b1194d/dwave_system-0.7.5-py2.py3-none-any.whl (75kB)\n",
            "\u001b[K     |████████████████████████████████| 81kB 23.8MB/s \n",
            "\u001b[?25hCollecting dwave-tabu<0.3.0,>=0.2.0 (from dwave-ocean-sdk)\n",
            "\u001b[?25l  Downloading https://files.pythonhosted.org/packages/0d/e0/0fbc474c52a929b675544130d5c00d0a4105e774abd20637606eb2599e22/dwave_tabu-0.2.0-cp36-cp36m-manylinux1_x86_64.whl (784kB)\n",
            "\u001b[K     |████████████████████████████████| 788kB 42.5MB/s \n",
            "\u001b[?25hCollecting dwave-neal<0.6.0,>=0.5.0 (from dwave-ocean-sdk)\n",
            "\u001b[?25l  Downloading https://files.pythonhosted.org/packages/b9/1f/d29a8bc6a9dfe768bdab0b886d6fc8f70e913846e34c71f43efd28095a1f/dwave_neal-0.5.1-cp36-cp36m-manylinux1_x86_64.whl (390kB)\n",
            "\u001b[K     |████████████████████████████████| 399kB 40.9MB/s \n",
            "\u001b[?25hCollecting dwave-qbsolv<0.3.0,>=0.2.7 (from dwave-ocean-sdk)\n",
            "\u001b[?25l  Downloading https://files.pythonhosted.org/packages/cf/b5/99a322558753d0eb2cb2998e1d8f661f6b742a92c92dcc61f18f683596f5/dwave_qbsolv-0.2.10-cp36-cp36m-manylinux1_x86_64.whl (204kB)\n",
            "\u001b[K     |████████████████████████████████| 204kB 42.9MB/s \n",
            "\u001b[?25hCollecting dwave-networkx<0.9.0,>=0.8.0 (from dwave-ocean-sdk)\n",
            "\u001b[?25l  Downloading https://files.pythonhosted.org/packages/19/f7/54419a35f8693c8079ce55018ab4ea7188811cc994c99508471ea7021a0d/dwave_networkx-0.8.0-py2.py3-none-any.whl (77kB)\n",
            "\u001b[K     |████████████████████████████████| 81kB 24.5MB/s \n",
            "\u001b[?25hCollecting dwavebinarycsp[mip]<0.1.0,>=0.0.9; (platform_machine == \"x86_64\" or platform_machine == \"amd64\" or platform_machine == \"AMD64\") and python_version != \"3.4\" (from dwave-ocean-sdk)\n",
            "  Downloading https://files.pythonhosted.org/packages/97/c2/070e77f2b4b8db26f50fca1dec625eb50660ff39a2f80c8913f59cf0a89c/dwavebinarycsp-0.0.11-py2.py3-none-any.whl\n",
            "Requirement already satisfied: six<2.0.0,>=1.10.0 in /usr/local/lib/python3.6/dist-packages (from dimod<0.9.0,>=0.8.0->dwave-ocean-sdk) (1.12.0)\n",
            "Requirement already satisfied: jsonschema<3.0.0,>=2.6.0 in /usr/local/lib/python3.6/dist-packages (from dimod<0.9.0,>=0.8.0->dwave-ocean-sdk) (2.6.0)\n",
            "Collecting minorminer>=0.1.7 (from dwave-hybrid<0.4.0,>=0.3.0->dwave-ocean-sdk)\n",
            "\u001b[?25l  Downloading https://files.pythonhosted.org/packages/9e/87/98fdb28c7cb16fc791ce4961d220383f8e20ceacacf5c11a6152a200abd3/minorminer-0.1.8-cp36-cp36m-manylinux1_x86_64.whl (2.3MB)\n",
            "\u001b[K     |████████████████████████████████| 2.3MB 40.5MB/s \n",
            "\u001b[?25hRequirement already satisfied: click>5 in /usr/local/lib/python3.6/dist-packages (from dwave-hybrid<0.4.0,>=0.3.0->dwave-ocean-sdk) (7.0)\n",
            "Requirement already satisfied: networkx in /usr/local/lib/python3.6/dist-packages (from dwave-hybrid<0.4.0,>=0.3.0->dwave-ocean-sdk) (2.2)\n",
            "Collecting plucky>=0.4.3 (from dwave-hybrid<0.4.0,>=0.3.0->dwave-ocean-sdk)\n",
            "  Downloading https://files.pythonhosted.org/packages/d8/70/7b43e7280284bafecb345f4edb3eea7042cf0d089c5d112920eda650fda5/plucky-0.4.3-py2.py3-none-any.whl\n",
            "Collecting homebase<2.0.0,>=1.0.0 (from dwave-system<0.8.0,>=0.7.0->dwave-ocean-sdk)\n",
            "  Downloading https://files.pythonhosted.org/packages/50/ad/e0080c35bd177682d5118a95bc2e7c1ac0541394b4ffce5e9554b6a077f9/homebase-1.0.1-py2.py3-none-any.whl\n",
            "Collecting dwave-cloud-client<0.6.0,>=0.5.0 (from dwave-system<0.8.0,>=0.7.0->dwave-ocean-sdk)\n",
            "\u001b[?25l  Downloading https://files.pythonhosted.org/packages/9a/9e/e9259a3479b26bb316a42ba2303b5600d9c04682a59eb10652dc2f1404d3/dwave_cloud_client-0.5.4-py2.py3-none-any.whl (63kB)\n",
            "\u001b[K     |████████████████████████████████| 71kB 20.4MB/s \n",
            "\u001b[?25hRequirement already satisfied: decorator<5.0.0,>=4.1.0 in /usr/local/lib/python3.6/dist-packages (from dwave-networkx<0.9.0,>=0.8.0->dwave-ocean-sdk) (4.4.0)\n",
            "Collecting penaltymodel-cache<0.5.0,>=0.4.0 (from dwavebinarycsp[mip]<0.1.0,>=0.0.9; (platform_machine == \"x86_64\" or platform_machine == \"amd64\" or platform_machine == \"AMD64\") and python_version != \"3.4\"->dwave-ocean-sdk)\n",
            "  Downloading https://files.pythonhosted.org/packages/38/36/1580a020e09aff581297efd6ea58c882202ac4ef574613ee5a6709b1f2b5/penaltymodel_cache-0.4.0-py2.py3-none-any.whl\n",
            "Collecting penaltymodel<0.17.0,>=0.16.0 (from dwavebinarycsp[mip]<0.1.0,>=0.0.9; (platform_machine == \"x86_64\" or platform_machine == \"amd64\" or platform_machine == \"AMD64\") and python_version != \"3.4\"->dwave-ocean-sdk)\n",
            "  Downloading https://files.pythonhosted.org/packages/ec/3c/a61423b81bb178198d6670aa0d4b8f69c5d39379f8b24def4ad5595656cd/penaltymodel-0.16.2-py2.py3-none-any.whl\n",
            "Collecting penaltymodel-mip<0.3.0,>=0.2.0; extra == \"mip\" (from dwavebinarycsp[mip]<0.1.0,>=0.0.9; (platform_machine == \"x86_64\" or platform_machine == \"amd64\" or platform_machine == \"AMD64\") and python_version != \"3.4\"->dwave-ocean-sdk)\n",
            "  Downloading https://files.pythonhosted.org/packages/08/ae/dcb44d5167d02addc6eef020c23e584b81540867524073d35952714192ed/penaltymodel_mip-0.2.1-py2.py3-none-any.whl\n",
            "Collecting python-dateutil>=2.7 (from dwave-cloud-client<0.6.0,>=0.5.0->dwave-system<0.8.0,>=0.7.0->dwave-ocean-sdk)\n",
            "\u001b[?25l  Downloading https://files.pythonhosted.org/packages/41/17/c62faccbfbd163c7f57f3844689e3a78bae1f403648a6afb1d0866d87fbb/python_dateutil-2.8.0-py2.py3-none-any.whl (226kB)\n",
            "\u001b[K     |████████████████████████████████| 235kB 43.0MB/s \n",
            "\u001b[?25hRequirement already satisfied: requests[socks]>=2.18 in /usr/local/lib/python3.6/dist-packages (from dwave-cloud-client<0.6.0,>=0.5.0->dwave-system<0.8.0,>=0.7.0->dwave-ocean-sdk) (2.21.0)\n",
            "Collecting ortools<7.0.0,>=6.6.4659 (from penaltymodel-mip<0.3.0,>=0.2.0; extra == \"mip\"->dwavebinarycsp[mip]<0.1.0,>=0.0.9; (platform_machine == \"x86_64\" or platform_machine == \"amd64\" or platform_machine == \"AMD64\") and python_version != \"3.4\"->dwave-ocean-sdk)\n",
            "\u001b[?25l  Downloading https://files.pythonhosted.org/packages/64/13/8c8d0fe23da0767ec0f8d00ad14619a20bc6d55ca49a3bd13700e629a1be/ortools-6.10.6025-cp36-cp36m-manylinux1_x86_64.whl (23.7MB)\n",
            "\u001b[K     |████████████████████████████████| 23.7MB 63.2MB/s \n",
            "\u001b[?25hRequirement already satisfied: certifi>=2017.4.17 in /usr/local/lib/python3.6/dist-packages (from requests[socks]>=2.18->dwave-cloud-client<0.6.0,>=0.5.0->dwave-system<0.8.0,>=0.7.0->dwave-ocean-sdk) (2019.6.16)\n",
            "Requirement already satisfied: chardet<3.1.0,>=3.0.2 in /usr/local/lib/python3.6/dist-packages (from requests[socks]>=2.18->dwave-cloud-client<0.6.0,>=0.5.0->dwave-system<0.8.0,>=0.7.0->dwave-ocean-sdk) (3.0.4)\n",
            "Requirement already satisfied: idna<2.9,>=2.5 in /usr/local/lib/python3.6/dist-packages (from requests[socks]>=2.18->dwave-cloud-client<0.6.0,>=0.5.0->dwave-system<0.8.0,>=0.7.0->dwave-ocean-sdk) (2.8)\n",
            "Requirement already satisfied: urllib3<1.25,>=1.21.1 in /usr/local/lib/python3.6/dist-packages (from requests[socks]>=2.18->dwave-cloud-client<0.6.0,>=0.5.0->dwave-system<0.8.0,>=0.7.0->dwave-ocean-sdk) (1.24.3)\n",
            "Requirement already satisfied: PySocks!=1.5.7,>=1.5.6; extra == \"socks\" in /usr/local/lib/python3.6/dist-packages (from requests[socks]>=2.18->dwave-cloud-client<0.6.0,>=0.5.0->dwave-system<0.8.0,>=0.7.0->dwave-ocean-sdk) (1.7.0)\n",
            "Requirement already satisfied: protobuf>=3.6.1 in /usr/local/lib/python3.6/dist-packages (from ortools<7.0.0,>=6.6.4659->penaltymodel-mip<0.3.0,>=0.2.0; extra == \"mip\"->dwavebinarycsp[mip]<0.1.0,>=0.0.9; (platform_machine == \"x86_64\" or platform_machine == \"amd64\" or platform_machine == \"AMD64\") and python_version != \"3.4\"->dwave-ocean-sdk) (3.7.1)\n",
            "Requirement already satisfied: setuptools in /usr/local/lib/python3.6/dist-packages (from protobuf>=3.6.1->ortools<7.0.0,>=6.6.4659->penaltymodel-mip<0.3.0,>=0.2.0; extra == \"mip\"->dwavebinarycsp[mip]<0.1.0,>=0.0.9; (platform_machine == \"x86_64\" or platform_machine == \"amd64\" or platform_machine == \"AMD64\") and python_version != \"3.4\"->dwave-ocean-sdk) (41.0.1)\n",
            "Building wheels for collected packages: pyqubo\n",
            "  Building wheel for pyqubo (setup.py) ... \u001b[?25l\u001b[?25hdone\n",
            "  Stored in directory: /root/.cache/pip/wheels/77/b7/47/b989889699f788f4fecdc534bfddbb16df9a9a51f4e431b04d\n",
            "Successfully built pyqubo\n",
            "Installing collected packages: dimod, minorminer, dwave-networkx, dwave-tabu, plucky, dwave-neal, homebase, python-dateutil, dwave-cloud-client, dwave-system, dwave-hybrid, pyqubo, dwave-qbsolv, penaltymodel, penaltymodel-cache, ortools, penaltymodel-mip, dwavebinarycsp, dwave-ocean-sdk\n",
            "  Found existing installation: python-dateutil 2.5.3\n",
            "    Uninstalling python-dateutil-2.5.3:\n",
            "      Successfully uninstalled python-dateutil-2.5.3\n",
            "Successfully installed dimod-0.8.14 dwave-cloud-client-0.5.4 dwave-hybrid-0.3.1 dwave-neal-0.5.1 dwave-networkx-0.8.0 dwave-ocean-sdk-1.4.0 dwave-qbsolv-0.2.10 dwave-system-0.7.5 dwave-tabu-0.2.0 dwavebinarycsp-0.0.11 homebase-1.0.1 minorminer-0.1.8 ortools-6.10.6025 penaltymodel-0.16.2 penaltymodel-cache-0.4.0 penaltymodel-mip-0.2.1 plucky-0.4.3 pyqubo-0.4.0 python-dateutil-2.8.0\n",
            "Configuration file not found; the default location is: /root/.config/dwave/dwave.conf\n",
            "Configuration file path [/root/.config/dwave/dwave.conf]: \n",
            "Configuration file path does not exist. Create it? [y/N]: y\n",
            "Profile (create new) [prod]: prod\n",
            "API endpoint URL [skip]: https://cloud.dwavesys.com/leap/\n",
            "Authentication token [skip]: DEV-ddca80c30487ba608a2743b2105d60f8d6952fd0\n",
            "Default client class (qpu or sw) [qpu]: qpu\n",
            "Default solver [skip]: \n",
            "Configuration saved.\n"
          ],
          "name": "stdout"
        },
        {
          "output_type": "display_data",
          "data": {
            "application/vnd.colab-display-data+json": {
              "pip_warning": {
                "packages": [
                  "dateutil"
                ]
              }
            }
          },
          "metadata": {
            "tags": []
          }
        }
      ]
    }
  ]
}